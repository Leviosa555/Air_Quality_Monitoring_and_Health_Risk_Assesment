{
 "cells": [
  {
   "cell_type": "markdown",
   "id": "db087477",
   "metadata": {},
   "source": [
    "**Project Title:**\n",
    "Air_Quality_Monitoring_and_Health_Risk_Assesment\n",
    "\n",
    "**Problem Statement:**\n",
    "Air pollution in India is rising at an alarming rate, with pollutants like PM2.5, PM10, NO2, and SO2 posing major risks to human health. There is a need for effective prediction of air quality and its related health impacts to support timely preventive action.\n",
    "\n",
    "**Project Description:**\n",
    "This project analyzes Indian air quality data and applies machine learning to predict AQI levels while classifying them into health risk categories such as Good, Moderate, Poor, and Severe, providing insights for public health and policy decisions.\n"
   ]
  },
  {
   "cell_type": "code",
   "execution_count": null,
   "id": "b16f0b87",
   "metadata": {},
   "outputs": [],
   "source": [
    "import pandas as pd\n",
    "import numpy as np\n",
    "import matplotlib.pyplot as plt\n",
    "import seaborn as sns\n",
    "from sklearn.preprocessing import StandardScaler, LabelEncoder\n",
    "from sklearn.model_selection import train_test_split\n",
    "from sklearn.metrics import accuracy_score, classification_report, confusion_matrix\n",
    "from sklearn.ensemble import RandomForestClassifier, GradientBoostingRegressor\n",
    "from sklearn.linear_model import LogisticRegression\n",
    "import joblib\n",
    "\n",
    "df = pd.read_csv('city_day.csv')\n",
    "df.head()\n",
    "\n",
    "\n"
   ]
  },
  {
   "cell_type": "code",
   "execution_count": null,
   "id": "84299fc0",
   "metadata": {},
   "outputs": [],
   "source": [
    "df.info()"
   ]
  },
  {
   "cell_type": "code",
   "execution_count": null,
   "id": "f32be743",
   "metadata": {},
   "outputs": [],
   "source": [
    "df.isnull().sum()"
   ]
  },
  {
   "cell_type": "code",
   "execution_count": null,
   "id": "6c7ea7dd",
   "metadata": {},
   "outputs": [],
   "source": [
    "df.describe().T"
   ]
  },
  {
   "cell_type": "code",
   "execution_count": null,
   "id": "92cc3ee4",
   "metadata": {},
   "outputs": [],
   "source": [
    "df.shape"
   ]
  },
  {
   "cell_type": "code",
   "execution_count": null,
   "id": "d8074dba",
   "metadata": {},
   "outputs": [],
   "source": [
    "# columns\n",
    "df.columns"
   ]
  },
  {
   "cell_type": "code",
   "execution_count": null,
   "id": "c045979c",
   "metadata": {},
   "outputs": [],
   "source": [
    "# Univariate Analysis\n",
    "sns.countplot(x='AQI_Bucket', data=df)\n",
    "plt.title('Distribution of AQI Categories')\n",
    "plt.show()"
   ]
  },
  {
   "cell_type": "code",
   "execution_count": null,
   "id": "e6cad8ec",
   "metadata": {},
   "outputs": [],
   "source": [
    "num_cols = ['PM2.5', 'PM10', 'NO', 'NO2', 'NOx', 'NH3', 'CO', 'SO2', 'O3', 'Benzene', 'Toluene', 'Xylene', 'AQI']\n",
    "fig, axes = plt.subplots(5, 3, figsize=(15, 15))\n",
    "axes = axes.flatten()\n",
    "for ax, col in zip(axes, num_cols):\n",
    "    sns.histplot(df[col], kde=True, ax = ax)\n",
    "    ax.set_title(col)\n",
    "# hide unused axes\n",
    "for ax in range(len(num_cols), len(axes)):\n",
    "    fig.delaxes(axes[ax])\n",
    "plt.tight_layout()\n",
    "plt.show()"
   ]
  },
  {
   "cell_type": "code",
   "execution_count": null,
   "id": "02724fa6",
   "metadata": {},
   "outputs": [],
   "source": [
    "#Bivariate Analysis\n",
    "fig, axes = plt.subplots(1, 3, figsize=(20, 6))\n",
    "sns.boxplot(x=\"AQI_Bucket\", y=\"PM2.5\", data=df, ax=axes[0]).set_title(\"PM2.5 vs AQI_Bucket\")\n",
    "sns.countplot(x=\"City\", hue=\"AQI_Bucket\", data=df, ax=axes[1]).set_title(\"AQI_Bucket Distribution across Cities\")\n",
    "axes[1].tick_params(axis='x', rotation=90)\n",
    "sns.boxplot(x=\"AQI_Bucket\", y=\"NO2\", data=df, ax=axes[2]).set_title(\"NO2 vs AQI_Bucket\")\n",
    "\n",
    "plt.tight_layout()\n",
    "plt.show()"
   ]
  },
  {
   "cell_type": "code",
   "execution_count": null,
   "id": "adad4489",
   "metadata": {},
   "outputs": [],
   "source": [
    "# Select only numerical columns\n",
    "num_cols_corr = df.select_dtypes(include=['float64', 'int64']).columns\n",
    "\n",
    "# Correlation matrix\n",
    "plt.figure(figsize=(10, 8))\n",
    "sns.heatmap(df[num_cols_corr].corr(), annot=True, cmap='coolwarm', fmt=\".2f\")\n",
    "plt.title('Correlation Matrix')\n",
    "plt.show()"
   ]
  },
  {
   "cell_type": "code",
   "execution_count": null,
   "id": "e29e3f7e",
   "metadata": {},
   "outputs": [],
   "source": [
    "# Pick the most important columns for visualization\n",
    "selected_features = [\"PM2.5\", \"PM10\", \"NO2\", \"AQI\"]\n",
    "\n",
    "# Pairplot with AQI_Bucket as hue\n",
    "sns.pairplot(\n",
    "    df.sample(2000, random_state=42),\n",
    "    vars=selected_features,\n",
    "    hue=\"AQI_Bucket\",\n",
    "    diag_kind=\"kde\",\n",
    "    palette=\"Set2\",\n",
    "    plot_kws={\"alpha\": 0.5, \"s\": 15}\n",
    ")\n",
    "plt.show()\n",
    "city_names = df['City'].unique().tolist()"
   ]
  },
  {
   "cell_type": "code",
   "execution_count": null,
   "id": "3c781bea",
   "metadata": {},
   "outputs": [],
   "source": [
    "#Data preprocessing \n",
    "# Use separate encoders\n",
    "city_le = LabelEncoder()\n",
    "aqi_le = LabelEncoder()\n",
    "\n",
    "df['City'] = city_le.fit_transform(df['City'])\n",
    "df['AQI_Bucket'] = aqi_le.fit_transform(df['AQI_Bucket'])"
   ]
  },
  {
   "cell_type": "code",
   "execution_count": null,
   "id": "3006fd9f",
   "metadata": {},
   "outputs": [],
   "source": [
    "#Feature and Target selection \n",
    "X = df.drop(['AQI_Bucket', 'Datetime'], axis = 1)\n",
    "y = df['AQI_Bucket']"
   ]
  },
  {
   "cell_type": "code",
   "execution_count": null,
   "id": "1d7c2641",
   "metadata": {},
   "outputs": [],
   "source": [
    "#Split data into training and test sets\n",
    "X_train, X_test, y_train, y_test = train_test_split(X, y, test_size=0.2, random_state=42)"
   ]
  },
  {
   "cell_type": "code",
   "execution_count": null,
   "id": "54530204",
   "metadata": {},
   "outputs": [],
   "source": [
    "X_train.shape"
   ]
  },
  {
   "cell_type": "code",
   "execution_count": null,
   "id": "2471a85b",
   "metadata": {},
   "outputs": [],
   "source": [
    "X_test.shape"
   ]
  },
  {
   "cell_type": "code",
   "execution_count": null,
   "id": "3df9aef2",
   "metadata": {},
   "outputs": [],
   "source": [
    "#scale num features\n",
    "scaler = StandardScaler()\n",
    "num_cols_scale = X_train.select_dtypes(include=['float64', 'int64']).columns\n",
    "X_train[num_cols_scale] = scaler.fit_transform(X_train[num_cols_scale])\n",
    "X_test[num_cols_scale] = scaler.transform(X_test[num_cols_scale])"
   ]
  },
  {
   "cell_type": "code",
   "execution_count": null,
   "id": "91efcb8c",
   "metadata": {},
   "outputs": [],
   "source": [
    "X_train"
   ]
  },
  {
   "cell_type": "code",
   "execution_count": null,
   "id": "0a6d5708",
   "metadata": {},
   "outputs": [],
   "source": [
    "# Initialize the model\n",
    "rf_classifier = RandomForestClassifier(n_estimators=100, random_state=42)\n",
    "\n",
    "# Train the model\n",
    "rf_classifier.fit(X_train, y_train)\n",
    "\n",
    "# Make predictions on test set\n",
    "y_pred = rf_classifier.predict(X_test)"
   ]
  },
  {
   "cell_type": "code",
   "execution_count": null,
   "id": "03e4d8ff",
   "metadata": {},
   "outputs": [],
   "source": [
    "# Evaluate the model\n",
    "print(\"Accuracy Score:\", accuracy_score(y_test, y_pred))\n",
    "print(\"\\nClassification Report:\\n\", classification_report(y_test, y_pred))\n"
   ]
  },
  {
   "cell_type": "code",
   "execution_count": null,
   "id": "a0acf42c",
   "metadata": {},
   "outputs": [],
   "source": [
    "plt.figure(figsize=(8,6))\n",
    "sns.heatmap(confusion_matrix(y_test, y_pred), annot=True, fmt=\"d\", cmap=\"Blues\")\n",
    "plt.title('Confusion Matrix - Random Forest')\n",
    "plt.xlabel('Predicted')\n",
    "plt.ylabel('Actual')\n",
    "plt.show()"
   ]
  },
  {
   "cell_type": "code",
   "execution_count": null,
   "id": "84d4e85f",
   "metadata": {},
   "outputs": [],
   "source": [
    "importances = rf_classifier.feature_importances_\n",
    "features = X.columns\n",
    "plt.figure(figsize=(10,6))\n",
    "plt.barh(features, importances)\n",
    "plt.xlabel('Importance')\n",
    "plt.ylabel('Feature')\n",
    "plt.title('Feature Importance - Random Forest')\n",
    "plt.show()"
   ]
  },
  {
   "cell_type": "code",
   "execution_count": null,
   "id": "b1dfff9a",
   "metadata": {},
   "outputs": [],
   "source": [
    "logistic_model = LogisticRegression(max_iter=500, random_state=42)\n",
    "logistic_model.fit(X_train, y_train)\n",
    "\n",
    "y_pred_logistic = logistic_model.predict(X_test)\n",
    "\n",
    "print(\"Logistic Regression Accuracy:\", accuracy_score(y_test, y_pred_logistic))\n",
    "print(\"\\nClassification Report (Logistic Regression):\\n\", classification_report(y_test, y_pred_logistic))\n",
    "\n",
    "plt.figure(figsize=(8,6))\n",
    "sns.heatmap(confusion_matrix(y_test, y_pred_logistic), annot=True, fmt=\"d\", cmap=\"Blues\")\n",
    "plt.title('Confusion Matrix - Logistic Regression')\n",
    "plt.xlabel('Predicted')\n",
    "plt.ylabel('Actual')\n",
    "plt.show()\n"
   ]
  },
  {
   "cell_type": "code",
   "execution_count": null,
   "id": "adb769a0",
   "metadata": {},
   "outputs": [],
   "source": [
    "joblib.dump(rf_classifier, 'rf_aqi_model.pkl')\n",
    "joblib.dump(logistic_model, 'logistic_aqi_model.pkl')\n",
    "joblib.dump(scaler, 'scaler.pkl')\n",
    "joblib.dump(city_le, 'label_encoder.pkl')  # This is for cities now\n",
    "joblib.dump(aqi_le, 'aqi_label_encoder.pkl')  # Save AQI encoder separately\n",
    "feature_names = X.columns.tolist()\n",
    "joblib.dump(feature_names, 'feature_names.pkl')\n",
    "cat_dict = {'City': city_names}  # Use original city names\n",
    "joblib.dump(cat_dict, 'cat_dict.pkl')"
   ]
  }
 ],
 "metadata": {
  "kernelspec": {
   "display_name": "venv",
   "language": "python",
   "name": "python3"
  },
  "language_info": {
   "codemirror_mode": {
    "name": "ipython",
    "version": 3
   },
   "file_extension": ".py",
   "mimetype": "text/x-python",
   "name": "python",
   "nbconvert_exporter": "python",
   "pygments_lexer": "ipython3",
   "version": "3.10.6"
  }
 },
 "nbformat": 4,
 "nbformat_minor": 5
}
